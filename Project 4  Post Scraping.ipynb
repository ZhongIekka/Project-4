{
 "cells": [
  {
   "cell_type": "code",
   "execution_count": 1,
   "metadata": {
    "collapsed": true
   },
   "outputs": [],
   "source": [
    "from bs4 import BeautifulSoup\n",
    "import urllib2\n",
    "import pickle\n",
    "from time import sleep\n",
    "import requests\n",
    "import re\n",
    "import pandas as pd\n",
    "import numpy as np"
   ]
  },
  {
   "cell_type": "markdown",
   "metadata": {},
   "source": [
    "# Question 1"
   ]
  },
  {
   "cell_type": "code",
   "execution_count": 2,
   "metadata": {
    "collapsed": true
   },
   "outputs": [],
   "source": [
    "pickle_in = open(\"indeed_data_df.pickle\",\"rb\")\n",
    "indeed_data_df = pickle.load(pickle_in)"
   ]
  },
  {
   "cell_type": "code",
   "execution_count": 3,
   "metadata": {
    "collapsed": true
   },
   "outputs": [],
   "source": [
    "indeed_data_df['Employer'] = indeed_data_df['Employer'].map(lambda x: 'Employer not stated' if x == '' else x)"
   ]
  },
  {
   "cell_type": "markdown",
   "metadata": {},
   "source": [
    "### Cleaning scraped data\n",
    "\n",
    "Getting rid of job titles that are obviously not data science related."
   ]
  },
  {
   "cell_type": "code",
   "execution_count": 4,
   "metadata": {
    "collapsed": true
   },
   "outputs": [],
   "source": [
    "mask = indeed_data_df['Job Title'].str.contains('CLERK')\n",
    "indeed_data_df = indeed_data_df[mask == False]\n",
    "\n",
    "mask_2 = indeed_data_df['Job Title'].str.contains('Clerk')\n",
    "indeed_data_df = indeed_data_df[mask_2 == False]\n",
    "\n",
    "mask_3 = indeed_data_df['Job Title'].str.contains('Data Entry')\n",
    "indeed_data_df = indeed_data_df[mask_3 == False]\n",
    "\n",
    "mask_4 = indeed_data_df['Salary'].str.contains('hour')\n",
    "indeed_data_df = indeed_data_df[mask_4 == False]\n",
    "\n",
    "mask_5 = indeed_data_df['Job Title'].str.contains('Recep')\n",
    "indeed_data_df = indeed_data_df[mask_5 == False]\n",
    "\n",
    "mask_6 = indeed_data_df['Job Title'].str.contains('Admin Assistant')\n",
    "indeed_data_df = indeed_data_df[mask_6 == False]\n",
    "\n",
    "mask_7 = indeed_data_df['Job Title'].str.contains('Agent')\n",
    "indeed_data_df = indeed_data_df[mask_7 == False]\n",
    "\n",
    "mask_9 = indeed_data_df['Job Title'].str.contains('Customer Service')\n",
    "indeed_data_df = indeed_data_df[mask_9 == False]\n",
    "\n",
    "mask_10 = indeed_data_df['Job Title'].str.contains('ADMIN SUPPORT ASSISTANT')\n",
    "indeed_data_df = indeed_data_df[mask_10 == False]\n",
    "\n",
    "mask_11 = indeed_data_df['Job Title'].str.contains('LIBRARY ADMINISTRATOR')\n",
    "indeed_data_df = indeed_data_df[mask_11 == False]\n",
    "\n",
    "mask_12 = indeed_data_df['Job Title'].str.contains('Consumer Careline Executives')\n",
    "indeed_data_df = indeed_data_df[mask_12 == False]\n"
   ]
  },
  {
   "cell_type": "code",
   "execution_count": 5,
   "metadata": {
    "collapsed": true
   },
   "outputs": [],
   "source": [
    "indeed_data_df.drop(531,axis=0,inplace=True)"
   ]
  },
  {
   "cell_type": "markdown",
   "metadata": {},
   "source": [
    "### Because one of the salaries stated is annual instead of monthly, it has to be isolated and dealth with.\n",
    "\n",
    "Created a new column where payment terms of each job are given a tag. 0 if salary is not stated, 1 if salary stated is monthly salary and 2 if salary stated is annual salary."
   ]
  },
  {
   "cell_type": "code",
   "execution_count": 6,
   "metadata": {
    "collapsed": true
   },
   "outputs": [],
   "source": [
    "indeed_data_df['Payment Term'] = indeed_data_df['Salary'].map(lambda x: 0 if x == 'Salary not stated' \n",
    "                                                               else 1 if 'month' in x \n",
    "                                                               else 2 if 'year' in x \n",
    "                                                               else x)"
   ]
  },
  {
   "cell_type": "markdown",
   "metadata": {},
   "source": [
    "### Cleaning salary column"
   ]
  },
  {
   "cell_type": "code",
   "execution_count": 7,
   "metadata": {
    "collapsed": true
   },
   "outputs": [],
   "source": [
    "indeed_data_df['Salary'] = indeed_data_df['Salary'].str.replace('a month','')\n",
    "indeed_data_df['Salary'] = indeed_data_df['Salary'].str.replace('a year','')\n",
    "indeed_data_df['Salary'] = indeed_data_df['Salary'].str.replace('$','')\n",
    "indeed_data_df['Salary'] = indeed_data_df['Salary'].str.replace('- ','')\n",
    "indeed_data_df['Salary'] = indeed_data_df['Salary'].str.replace(',','')\n",
    "\n",
    "indeed_data_df['Salary'] = indeed_data_df['Salary'].map(lambda x: str(x)[:-1])"
   ]
  },
  {
   "cell_type": "code",
   "execution_count": 8,
   "metadata": {
    "scrolled": true
   },
   "outputs": [
    {
     "data": {
      "text/plain": [
       "0      Salary not state\n",
       "6             2500 3500\n",
       "9      Salary not state\n",
       "11     Salary not state\n",
       "13     Salary not state\n",
       "14     Salary not state\n",
       "15     Salary not state\n",
       "17     Salary not state\n",
       "20                 2500\n",
       "21     Salary not state\n",
       "23            5000 8500\n",
       "26     Salary not state\n",
       "27     Salary not state\n",
       "28                 3500\n",
       "29     Salary not state\n",
       "30            2600 2800\n",
       "32     Salary not state\n",
       "33     Salary not state\n",
       "34     Salary not state\n",
       "36            3500 4500\n",
       "38     Salary not state\n",
       "39     Salary not state\n",
       "40     Salary not state\n",
       "41     Salary not state\n",
       "42     Salary not state\n",
       "43     Salary not state\n",
       "44     Salary not state\n",
       "45            3000 5000\n",
       "46            4000 7000\n",
       "47     Salary not state\n",
       "             ...       \n",
       "966    Salary not state\n",
       "967    Salary not state\n",
       "968    Salary not state\n",
       "969    Salary not state\n",
       "970    Salary not state\n",
       "971    Salary not state\n",
       "972    Salary not state\n",
       "973    Salary not state\n",
       "974    Salary not state\n",
       "975    Salary not state\n",
       "976    Salary not state\n",
       "977    Salary not state\n",
       "978    Salary not state\n",
       "979           4000 5000\n",
       "980           2500 4200\n",
       "981    Salary not state\n",
       "982    Salary not state\n",
       "983    Salary not state\n",
       "984    Salary not state\n",
       "985    Salary not state\n",
       "986    Salary not state\n",
       "987    Salary not state\n",
       "988    Salary not state\n",
       "989    Salary not state\n",
       "990    Salary not state\n",
       "991    Salary not state\n",
       "994    Salary not state\n",
       "997    Salary not state\n",
       "998    Salary not state\n",
       "999    Salary not state\n",
       "Name: Salary, Length: 860, dtype: object"
      ]
     },
     "execution_count": 8,
     "metadata": {},
     "output_type": "execute_result"
    }
   ],
   "source": [
    "indeed_data_df['Salary']"
   ]
  },
  {
   "cell_type": "markdown",
   "metadata": {},
   "source": [
    "### Salaries are stated in different formats. Some are stated as a range while others have a single value.\n",
    "\n",
    "The for-loops below seek to convert salaries with a **single value** into floats for easier handling."
   ]
  },
  {
   "cell_type": "code",
   "execution_count": 9,
   "metadata": {
    "collapsed": true
   },
   "outputs": [],
   "source": [
    "salary_list = []\n",
    "\n",
    "for i in indeed_data_df['Salary'].values:\n",
    "    salary_list.append(i)"
   ]
  },
  {
   "cell_type": "code",
   "execution_count": 10,
   "metadata": {
    "collapsed": true
   },
   "outputs": [],
   "source": [
    "# Converting salaries with single value to float\n",
    "\n",
    "for index,item in enumerate(salary_list):\n",
    "    if len(item) == 4:\n",
    "        salary_list[index] = float(item)"
   ]
  },
  {
   "cell_type": "markdown",
   "metadata": {},
   "source": [
    "The for-loops below seek to convert salaries that are stated as ranges into floats such that their **mean** may be tabulated for use as the dependent variable."
   ]
  },
  {
   "cell_type": "code",
   "execution_count": 11,
   "metadata": {
    "collapsed": true
   },
   "outputs": [],
   "source": [
    "# Converting salaries that range between 2 4-figure numbers to float and \n",
    "# calculating mean monthly salary.\n",
    "\n",
    "for index,item in enumerate(salary_list):\n",
    "    try:\n",
    "        if len(item) == 9:\n",
    "            salary_list[index] = item.split()\n",
    "    except:\n",
    "        continue\n",
    "\n",
    "for index,item in enumerate(salary_list):\n",
    "    if type(item) == list:\n",
    "        for x,y in enumerate(item):\n",
    "            item[x] = float(y)\n",
    "\n",
    "for index,item in enumerate(salary_list):\n",
    "    if type(item) == list:\n",
    "        salary_list[index] = (item[0] + item[1])/2"
   ]
  },
  {
   "cell_type": "code",
   "execution_count": 12,
   "metadata": {
    "collapsed": true
   },
   "outputs": [],
   "source": [
    "# Converting salaries that range between 2 non-4-figure numbers to float \n",
    "# and calculating mean monthly salary.\n",
    "\n",
    "for index,item in enumerate(salary_list):\n",
    "    try:\n",
    "        if len(item) == 10:\n",
    "            salary_list[index] = item.split()\n",
    "        elif len(item) == 8:\n",
    "            salary_list[index] = item.split()\n",
    "    except:\n",
    "        continue\n",
    "\n",
    "for index,item in enumerate(salary_list):\n",
    "    if type(item) == list:\n",
    "        for x,y in enumerate(item):\n",
    "            item[x] = float(y)\n",
    "\n",
    "for index,item in enumerate(salary_list):\n",
    "    if type(item) == list:\n",
    "        salary_list[index] = (item[0] + item[1])/2"
   ]
  },
  {
   "cell_type": "code",
   "execution_count": 13,
   "metadata": {
    "collapsed": true
   },
   "outputs": [],
   "source": [
    "# Converting annual salary to float and calculating the mean monthly salary.\n",
    "\n",
    "for index,item in enumerate(salary_list):\n",
    "    try:\n",
    "        if len(item) == 11:\n",
    "            salary_list[index] = item.split()\n",
    "    except:\n",
    "        continue\n",
    "\n",
    "for index,item in enumerate(salary_list):\n",
    "    if type(item) == list:\n",
    "        for x,y in enumerate(item):\n",
    "            item[x] = float(y)\n",
    "\n",
    "for index,item in enumerate(salary_list):\n",
    "    if type(item) == list:\n",
    "        salary_list[index] = ((item[0]/12) + item[1]/12)/2"
   ]
  },
  {
   "cell_type": "code",
   "execution_count": 14,
   "metadata": {
    "collapsed": true
   },
   "outputs": [],
   "source": [
    "# Converting list of salaries to dataframe for concatenation with main dataframe\n",
    "\n",
    "salary_list_df = pd.DataFrame(salary_list,columns=['Monthly Salary'])\n",
    "\n",
    "test_df = indeed_data_df.reset_index(drop=True)\n",
    "\n",
    "indeed_data_df = pd.concat([test_df,salary_list_df],axis=1)\n",
    "\n",
    "indeed_data_df.drop(['Salary','Payment Term'], axis=1,inplace=True)"
   ]
  },
  {
   "cell_type": "markdown",
   "metadata": {},
   "source": [
    "### Cleaning Job Description"
   ]
  },
  {
   "cell_type": "code",
   "execution_count": 15,
   "metadata": {
    "collapsed": true
   },
   "outputs": [],
   "source": [
    "# Removing \\n from job description\n",
    "indeed_data_df['Job Description'] = indeed_data_df['Job Description'].str.replace('\\n', '. ')"
   ]
  },
  {
   "cell_type": "code",
   "execution_count": 16,
   "metadata": {},
   "outputs": [
    {
     "name": "stderr",
     "output_type": "stream",
     "text": [
      "C:\\Users\\OJ\\Anaconda2\\lib\\site-packages\\ipykernel_launcher.py:4: DeprecationWarning: \n",
      ".ix is deprecated. Please use\n",
      ".loc for label based indexing or\n",
      ".iloc for positional indexing\n",
      "\n",
      "See the documentation here:\n",
      "http://pandas.pydata.org/pandas-docs/stable/indexing.html#ix-indexer-is-deprecated\n",
      "  after removing the cwd from sys.path.\n"
     ]
    }
   ],
   "source": [
    "# Removing 'Job Summary' from the start of each job description\n",
    "\n",
    "for i in indeed_data_df.iterrows():\n",
    "    indeed_data_df.ix[i[0],'Job Description'] = re.sub('Job Summary','',i[1][3])"
   ]
  },
  {
   "cell_type": "code",
   "execution_count": 17,
   "metadata": {
    "collapsed": true
   },
   "outputs": [],
   "source": [
    "# Removing 'Job Description' from the start of each job description\n",
    "\n",
    "for i in indeed_data_df.iterrows():\n",
    "    indeed_data_df.ix[i[0],'Job Description'] = re.sub('Job Description','',i[1][3])"
   ]
  },
  {
   "cell_type": "code",
   "execution_count": 18,
   "metadata": {
    "collapsed": true
   },
   "outputs": [],
   "source": [
    "for i in indeed_data_df.iterrows():\n",
    "    indeed_data_df.ix[i[0],'Job Description'] = re.sub('\"',\"'\",i[1][3])"
   ]
  },
  {
   "cell_type": "markdown",
   "metadata": {},
   "source": [
    "### Splitting main dataframe into 2. \n",
    "\n",
    "One with salary values and one without. The one with salary values will be used to train a model to predict salaries for the dataframe without salary values.\n",
    "\n",
    "Salary values will be divided into 2 groups. 0 (for normal salary) and 1 (for high salary). The divide between normal and high will be the median of all salary data which have been obtained."
   ]
  },
  {
   "cell_type": "code",
   "execution_count": 19,
   "metadata": {
    "collapsed": true
   },
   "outputs": [],
   "source": [
    "#Splitting into 2 dataframes\n",
    "\n",
    "salary_df = indeed_data_df[indeed_data_df['Monthly Salary'] != 'Salary not state']\n",
    "\n",
    "no_salary_df = indeed_data_df[indeed_data_df['Monthly Salary'] == 'Salary not state']"
   ]
  },
  {
   "cell_type": "code",
   "execution_count": 20,
   "metadata": {},
   "outputs": [
    {
     "data": {
      "text/plain": [
       "3000.0"
      ]
     },
     "execution_count": 20,
     "metadata": {},
     "output_type": "execute_result"
    }
   ],
   "source": [
    "# Finding the median salary\n",
    "\n",
    "np.median(salary_df['Monthly Salary'].values)"
   ]
  },
  {
   "cell_type": "code",
   "execution_count": 21,
   "metadata": {
    "collapsed": true
   },
   "outputs": [],
   "source": [
    "# Creating new column to show whether salary is normal or high. Values in this\n",
    "# column will be used as the dependent variable in model building.\n",
    "\n",
    "indeed_data_df['Salary Range'] = indeed_data_df['Monthly Salary'].map(lambda x: 0 if x == 'Salary not state' else 1 if x <= 3000 else 2)\n",
    "\n",
    "model_data = indeed_data_df.drop('Monthly Salary',axis=1)"
   ]
  },
  {
   "cell_type": "code",
   "execution_count": 22,
   "metadata": {
    "collapsed": true
   },
   "outputs": [],
   "source": [
    "salary_df = model_data[model_data['Salary Range'] != 0]\n",
    "\n",
    "no_salary_df = model_data[model_data['Salary Range'] == 0]"
   ]
  },
  {
   "cell_type": "markdown",
   "metadata": {},
   "source": [
    "# Model Building\n",
    "\n",
    "Count Vectorizer and then **logistic regression** vs **random forest**."
   ]
  },
  {
   "cell_type": "code",
   "execution_count": 23,
   "metadata": {
    "collapsed": true
   },
   "outputs": [],
   "source": [
    "from sklearn.feature_extraction.text import TfidfVectorizer\n",
    "from sklearn.pipeline import make_pipeline\n",
    "from sklearn.metrics import accuracy_score\n",
    "from sklearn.feature_extraction.text import CountVectorizer\n",
    "from sklearn.model_selection import KFold, cross_val_score, train_test_split\n"
   ]
  },
  {
   "cell_type": "code",
   "execution_count": 24,
   "metadata": {
    "collapsed": true
   },
   "outputs": [],
   "source": [
    "cols = list(salary_df.columns)\n",
    "cols.remove('Salary Range')"
   ]
  },
  {
   "cell_type": "code",
   "execution_count": 25,
   "metadata": {
    "collapsed": true
   },
   "outputs": [],
   "source": [
    "# model = make_pipeline(TfidfVectorizer(stop_words='english',\n",
    "#                                       sublinear_tf=True,\n",
    "#                                       max_df=0.5,\n",
    "#                                       max_features=1000),\n",
    "#                       LogisticRegression(),\n",
    "#                       )\n",
    "# model.fit(data_train['data'], y_train)\n",
    "# y_pred = model.predict(data_test['data'])\n",
    "# print accuracy_score(y_test, y_pred)\n",
    "# print \"Number of features:\", len(model.steps[0][1].get_feature_names())"
   ]
  },
  {
   "cell_type": "markdown",
   "metadata": {},
   "source": [
    "### Setting up countvectorizer"
   ]
  },
  {
   "cell_type": "code",
   "execution_count": 26,
   "metadata": {},
   "outputs": [
    {
     "data": {
      "text/plain": [
       "CountVectorizer(analyzer=u'word', binary=False, decode_error=u'strict',\n",
       "        dtype=<type 'numpy.int64'>, encoding=u'utf-8', input=u'content',\n",
       "        lowercase=True, max_df=1.0, max_features=5000, min_df=1,\n",
       "        ngram_range=(2, 4), preprocessor=None, stop_words='english',\n",
       "        strip_accents=None, token_pattern=u'(?u)\\\\b\\\\w\\\\w+\\\\b',\n",
       "        tokenizer=None, vocabulary=None)"
      ]
     },
     "execution_count": 26,
     "metadata": {},
     "output_type": "execute_result"
    }
   ],
   "source": [
    "# X is essentially the job description column but vectorized\n",
    "\n",
    "cvec = CountVectorizer(stop_words='english',\n",
    "                       ngram_range=(2,4),\n",
    "                       max_df=1.0,\n",
    "                       max_features=5000)\n",
    "\n",
    "cvec.fit(salary_df['Job Description'])\n"
   ]
  },
  {
   "cell_type": "code",
   "execution_count": 27,
   "metadata": {},
   "outputs": [
    {
     "data": {
      "text/plain": [
       "5000"
      ]
     },
     "execution_count": 27,
     "metadata": {},
     "output_type": "execute_result"
    }
   ],
   "source": [
    "len(cvec.get_feature_names())"
   ]
  },
  {
   "cell_type": "code",
   "execution_count": 28,
   "metadata": {
    "collapsed": true
   },
   "outputs": [],
   "source": [
    "X_train = pd.DataFrame(cvec.transform(salary_df['Job Description']).todense(),\n",
    "                       columns=cvec.get_feature_names())"
   ]
  },
  {
   "cell_type": "code",
   "execution_count": 29,
   "metadata": {},
   "outputs": [
    {
     "data": {
      "text/plain": [
       "000 00                         32\n",
       "500 00                         29\n",
       "00 monthrequired               27\n",
       "type timesalary                26\n",
       "monthrequired experience       23\n",
       "00 monthrequired experience    23\n",
       "data centre                    18\n",
       "00 month                       18\n",
       "job type                       15\n",
       "00 500                         13\n",
       "00 500 00                      13\n",
       "able work                      12\n",
       "00 000                         12\n",
       "based client instructions      12\n",
       "00 000 00                      12\n",
       "based client                   12\n",
       "client instructions            12\n",
       "type contractsalary            11\n",
       "working experience             11\n",
       "data center                    11\n",
       "dtype: int64"
      ]
     },
     "execution_count": 29,
     "metadata": {},
     "output_type": "execute_result"
    }
   ],
   "source": [
    "word_counts = X_train.sum(axis=0)\n",
    "word_counts.sort_values(ascending = False).head(20)"
   ]
  },
  {
   "cell_type": "code",
   "execution_count": 30,
   "metadata": {
    "collapsed": true
   },
   "outputs": [],
   "source": [
    "y_train = salary_df['Salary Range']"
   ]
  },
  {
   "cell_type": "markdown",
   "metadata": {},
   "source": [
    "### Model Building\n",
    "\n",
    "Logistic Regression"
   ]
  },
  {
   "cell_type": "code",
   "execution_count": 31,
   "metadata": {
    "collapsed": true
   },
   "outputs": [],
   "source": [
    "# Logistic Regression\n",
    "\n",
    "from sklearn.linear_model import LogisticRegression\n",
    "lr = LogisticRegression()\n",
    "kf_shuffle = KFold(n_splits=5,shuffle=True)\n",
    "scores = cross_val_score(lr, X_train, y_train, cv=kf_shuffle)"
   ]
  },
  {
   "cell_type": "code",
   "execution_count": 32,
   "metadata": {},
   "outputs": [
    {
     "name": "stdout",
     "output_type": "stream",
     "text": [
      "0.8\n"
     ]
    }
   ],
   "source": [
    "print np.mean(scores)"
   ]
  },
  {
   "cell_type": "markdown",
   "metadata": {},
   "source": [
    "Random Forest"
   ]
  },
  {
   "cell_type": "code",
   "execution_count": 33,
   "metadata": {
    "collapsed": true
   },
   "outputs": [],
   "source": [
    "from sklearn.ensemble import RandomForestClassifier\n",
    "rtc = RandomForestClassifier(random_state=1,n_jobs=-1)\n",
    "rtc_scores = cross_val_score(rtc, X_train, y_train, cv=kf_shuffle)"
   ]
  },
  {
   "cell_type": "code",
   "execution_count": 34,
   "metadata": {},
   "outputs": [
    {
     "name": "stdout",
     "output_type": "stream",
     "text": [
      "0.636363636364\n"
     ]
    }
   ],
   "source": [
    "print np.mean(rtc_scores)"
   ]
  },
  {
   "cell_type": "markdown",
   "metadata": {},
   "source": [
    "### Prediction\n",
    "\n",
    "Since logistic regression scored better, it will be used to predict salaries for the other job postings."
   ]
  },
  {
   "cell_type": "code",
   "execution_count": 35,
   "metadata": {
    "collapsed": true
   },
   "outputs": [],
   "source": [
    "X_test = pd.DataFrame(cvec.transform(no_salary_df['Job Description']).todense(),\n",
    "                       columns=cvec.get_feature_names())"
   ]
  },
  {
   "cell_type": "code",
   "execution_count": 36,
   "metadata": {
    "collapsed": true
   },
   "outputs": [],
   "source": [
    "model = lr.fit(X_train, y_train)\n",
    "y_pred = model.predict(X_test)"
   ]
  },
  {
   "cell_type": "code",
   "execution_count": 37,
   "metadata": {},
   "outputs": [
    {
     "data": {
      "text/plain": [
       "805"
      ]
     },
     "execution_count": 37,
     "metadata": {},
     "output_type": "execute_result"
    }
   ],
   "source": [
    "len(y_pred)"
   ]
  },
  {
   "cell_type": "markdown",
   "metadata": {},
   "source": [
    "# Question 2\n",
    "\n",
    "### Data scientist position vs non-data scientist position"
   ]
  },
  {
   "cell_type": "code",
   "execution_count": 38,
   "metadata": {
    "collapsed": true
   },
   "outputs": [],
   "source": [
    "indeed_data_df['Job Level'] = indeed_data_df['Job Title'].map(lambda x: 1 if x.find('scientist') > 0 \n",
    "                                                                    else 1 if x.find('Scientist') > 0 \n",
    "                                                                    else 0)"
   ]
  },
  {
   "cell_type": "code",
   "execution_count": 39,
   "metadata": {
    "scrolled": true
   },
   "outputs": [
    {
     "data": {
      "text/plain": [
       "0    783\n",
       "1     77\n",
       "Name: Job Level, dtype: int64"
      ]
     },
     "execution_count": 39,
     "metadata": {},
     "output_type": "execute_result"
    }
   ],
   "source": [
    "# Data is imbalanced. Got unicode error when appling resampling techniques.\n",
    "\n",
    "indeed_data_df['Job Level'].value_counts()"
   ]
  },
  {
   "cell_type": "code",
   "execution_count": 40,
   "metadata": {},
   "outputs": [
    {
     "name": "stdout",
     "output_type": "stream",
     "text": [
      "Baseline :  0.910465116279\n"
     ]
    }
   ],
   "source": [
    "print \"Baseline : \", 783./(783.+77.)"
   ]
  },
  {
   "cell_type": "code",
   "execution_count": 41,
   "metadata": {
    "collapsed": true
   },
   "outputs": [],
   "source": [
    "X_2 = indeed_data_df['Job Description']\n",
    "y_2 = indeed_data_df['Job Level']"
   ]
  },
  {
   "cell_type": "code",
   "execution_count": 42,
   "metadata": {
    "collapsed": true
   },
   "outputs": [],
   "source": [
    "X2_train, X2_test, y2_train, y2_test = train_test_split(X_2, y_2, test_size=0.3)"
   ]
  },
  {
   "cell_type": "markdown",
   "metadata": {},
   "source": [
    "### TFIDF Vectorizer \n",
    "\n",
    "Because we are trying to predict a job position based on the job description, it makes sense to ignore words that occur throughout job descriptions. We are interested in words in the job description that are specific to the position of a data scientist. \n",
    "\n",
    "Since TFIDF imposes a penalty on words that appear more frequently, it seems like a better choice than count vectorizer as certain words may be "
   ]
  },
  {
   "cell_type": "code",
   "execution_count": 43,
   "metadata": {
    "collapsed": true
   },
   "outputs": [],
   "source": [
    "tvect = TfidfVectorizer(stop_words='english',sublinear_tf=True,max_df=0.9,\n",
    "                        max_features=5000,norm='l1',ngram_range=(1,5))\n",
    "\n",
    "tvect.fit(X2_train)\n",
    "\n",
    "X2_train = pd.DataFrame(tvect.transform(X2_train).todense(),\n",
    "                       columns=tvect.get_feature_names())\n",
    "\n",
    "X2_test = pd.DataFrame(tvect.transform(X2_test).todense(),\n",
    "                       columns=tvect.get_feature_names())\n"
   ]
  },
  {
   "cell_type": "code",
   "execution_count": 44,
   "metadata": {},
   "outputs": [
    {
     "data": {
      "text/plain": [
       "602"
      ]
     },
     "execution_count": 44,
     "metadata": {},
     "output_type": "execute_result"
    }
   ],
   "source": [
    "len(y2_train)"
   ]
  },
  {
   "cell_type": "code",
   "execution_count": 45,
   "metadata": {},
   "outputs": [
    {
     "data": {
      "text/plain": [
       "258"
      ]
     },
     "execution_count": 45,
     "metadata": {},
     "output_type": "execute_result"
    }
   ],
   "source": [
    "len(X2_test)"
   ]
  },
  {
   "cell_type": "code",
   "execution_count": 46,
   "metadata": {
    "collapsed": true
   },
   "outputs": [],
   "source": [
    "model_lr_tvect = lr.fit(X2_train,y2_train)\n",
    "y2_pred = model_lr_tvect.predict(X2_test)"
   ]
  },
  {
   "cell_type": "code",
   "execution_count": 47,
   "metadata": {},
   "outputs": [
    {
     "data": {
      "text/plain": [
       "258"
      ]
     },
     "execution_count": 47,
     "metadata": {},
     "output_type": "execute_result"
    }
   ],
   "source": [
    "len(y2_pred)"
   ]
  },
  {
   "cell_type": "code",
   "execution_count": 48,
   "metadata": {},
   "outputs": [
    {
     "name": "stdout",
     "output_type": "stream",
     "text": [
      "0.926356589147\n"
     ]
    }
   ],
   "source": [
    "print accuracy_score(y2_test, y2_pred)"
   ]
  },
  {
   "cell_type": "code",
   "execution_count": 49,
   "metadata": {},
   "outputs": [
    {
     "data": {
      "text/plain": [
       "[u'00',\n",
       " u'00 000',\n",
       " u'00 000 00',\n",
       " u'00 200',\n",
       " u'00 200 00',\n",
       " u'00 500',\n",
       " u'00 500 00',\n",
       " u'00 month',\n",
       " u'00 monthrequired',\n",
       " u'00 monthrequired experience',\n",
       " u'000',\n",
       " u'000 00',\n",
       " u'000 00 month',\n",
       " u'000 employees',\n",
       " u'000 employees major',\n",
       " u'000 employees major financial',\n",
       " u'000 employees major financial centers',\n",
       " u'10',\n",
       " u'10 years',\n",
       " u'10 years experience',\n",
       " u'100',\n",
       " u'100 compliance',\n",
       " u'11',\n",
       " u'12',\n",
       " u'12 months',\n",
       " u'15',\n",
       " u'15 years',\n",
       " u'18',\n",
       " u'20',\n",
       " u'200',\n",
       " u'200 00',\n",
       " u'2008',\n",
       " u'2008 2012',\n",
       " u'2012',\n",
       " u'2014',\n",
       " u'2017',\n",
       " u'2018',\n",
       " u'24',\n",
       " u'24x7',\n",
       " u'30',\n",
       " u'3rd',\n",
       " u'3rd party',\n",
       " u'40',\n",
       " u'50',\n",
       " u'50 countries',\n",
       " u'50 countries want',\n",
       " u'50 countries want things',\n",
       " u'50 countries want things offer',\n",
       " u'500',\n",
       " u'500 00',\n",
       " u'500 00 month',\n",
       " u'60',\n",
       " u'60 000',\n",
       " u'60 000 employees',\n",
       " u'60 000 employees major',\n",
       " u'60 000 employees major financial',\n",
       " u'600',\n",
       " u'600 00',\n",
       " u'80',\n",
       " u'800',\n",
       " u'800 00',\n",
       " u'aa',\n",
       " u'aasp',\n",
       " u'abbott',\n",
       " u'abilities',\n",
       " u'ability',\n",
       " u'ability analyze',\n",
       " u'ability build',\n",
       " u'ability collaborate',\n",
       " u'ability communicate',\n",
       " u'ability create',\n",
       " u'ability deal',\n",
       " u'ability develop',\n",
       " u'ability drive',\n",
       " u'ability effectively',\n",
       " u'ability evaluate',\n",
       " u'ability influence',\n",
       " u'ability lead',\n",
       " u'ability learn',\n",
       " u'ability make',\n",
       " u'ability manage',\n",
       " u'ability multi',\n",
       " u'ability multi task',\n",
       " u'ability prioritize',\n",
       " u'ability quickly',\n",
       " u'ability self',\n",
       " u'ability speak',\n",
       " u'ability think',\n",
       " u'ability translate',\n",
       " u'ability travel',\n",
       " u'ability understand',\n",
       " u'ability work',\n",
       " u'ability work fast',\n",
       " u'ability work fast paced',\n",
       " u'ability work independently',\n",
       " u'ability work pressure',\n",
       " u'ability work team',\n",
       " u'ability write',\n",
       " u'able',\n",
       " u'able communicate',\n",
       " u'able lead',\n",
       " u'able manage',\n",
       " u'able multi',\n",
       " u'able multi task',\n",
       " u'able work',\n",
       " u'able work independently',\n",
       " u'able work pressure',\n",
       " u'abreast',\n",
       " u'absence',\n",
       " u'absolute',\n",
       " u'academic',\n",
       " u'academy',\n",
       " u'academy singapore',\n",
       " u'academy singapore seeking',\n",
       " u'acceptance',\n",
       " u'acceptance testing',\n",
       " u'access',\n",
       " u'accomplish',\n",
       " u'accordance',\n",
       " u'according',\n",
       " u'account',\n",
       " u'account management',\n",
       " u'account opening',\n",
       " u'accountabilities',\n",
       " u'accountability',\n",
       " u'accountable',\n",
       " u'accounting',\n",
       " u'accounts',\n",
       " u'accredited',\n",
       " u'accuracy',\n",
       " u'accurate',\n",
       " u'accurately',\n",
       " u'acetech',\n",
       " u'achieve',\n",
       " u'achieve ambitions',\n",
       " u'achieve work',\n",
       " u'achieve work life',\n",
       " u'achieve work life agility',\n",
       " u'achieve work life agility desire',\n",
       " u'achievement',\n",
       " u'achieving',\n",
       " u'acquire',\n",
       " u'acquisition',\n",
       " u'act',\n",
       " u'action',\n",
       " u'action plans',\n",
       " u'actionable',\n",
       " u'actionable insights',\n",
       " u'actionable recommendations',\n",
       " u'actions',\n",
       " u'active',\n",
       " u'actively',\n",
       " u'activities',\n",
       " u'activities including',\n",
       " u'activity',\n",
       " u'actuarial',\n",
       " u'acumen',\n",
       " u'ad',\n",
       " u'ad hoc',\n",
       " u'ad products',\n",
       " u'adapt',\n",
       " u'adaptable',\n",
       " u'added',\n",
       " u'added advantage',\n",
       " u'addition',\n",
       " u'additional',\n",
       " u'additional requirements',\n",
       " u'address',\n",
       " u'addressed',\n",
       " u'adept',\n",
       " u'adhere',\n",
       " u'adherence',\n",
       " u'adhoc',\n",
       " u'admin',\n",
       " u'administration',\n",
       " u'administration management',\n",
       " u'administrative',\n",
       " u'administrative support',\n",
       " u'administrator',\n",
       " u'adobe',\n",
       " u'adopt',\n",
       " u'adoption',\n",
       " u'advance',\n",
       " u'advanced',\n",
       " u'advanced analytics',\n",
       " u'advanced data',\n",
       " u'advanced degree',\n",
       " u'advanced knowledge',\n",
       " u'advanced statistical',\n",
       " u'advantage',\n",
       " u'advantage experience',\n",
       " u'advantageous',\n",
       " u'advertisers',\n",
       " u'advertising',\n",
       " u'advice',\n",
       " u'advice wealth',\n",
       " u'advice wealth management',\n",
       " u'advice wealth management investment',\n",
       " u'advice wealth management investment banking',\n",
       " u'advise',\n",
       " u'advising',\n",
       " u'advisor',\n",
       " u'advisors',\n",
       " u'advisory',\n",
       " u'advocate',\n",
       " u'age',\n",
       " u'agencies',\n",
       " u'agency',\n",
       " u'agency science',\n",
       " u'agency science technology',\n",
       " u'agency science technology research',\n",
       " u'agency science technology research star',\n",
       " u'agenda',\n",
       " u'agile',\n",
       " u'agile methodologies',\n",
       " u'agilent',\n",
       " u'agility',\n",
       " u'agility desire',\n",
       " u'agility desire open',\n",
       " u'agility desire open discussing',\n",
       " u'agility desire open discussing work',\n",
       " u'agreed',\n",
       " u'ai',\n",
       " u'ai ml',\n",
       " u'ai ml aa',\n",
       " u'aim',\n",
       " u'aims',\n",
       " u'air',\n",
       " u'aircraft',\n",
       " u'algorithms',\n",
       " u'align',\n",
       " u'aligned',\n",
       " u'alignment',\n",
       " u'allied',\n",
       " u'allied world',\n",
       " u'allocation',\n",
       " u'allow',\n",
       " u'allowance',\n",
       " u'alternative',\n",
       " u'amazing',\n",
       " u'amazon',\n",
       " u'amazon web',\n",
       " u'amazon web services',\n",
       " u'amazon web services aws',\n",
       " u'ambiguity',\n",
       " u'ambiguous',\n",
       " u'ambition',\n",
       " u'ambitions',\n",
       " u'ambitious',\n",
       " u'america',\n",
       " u'amobee',\n",
       " u'amounts',\n",
       " u'amounts data',\n",
       " u'analyse',\n",
       " u'analyses',\n",
       " u'analysing',\n",
       " u'analysis',\n",
       " u'analysis data',\n",
       " u'analysis design',\n",
       " u'analysis experience',\n",
       " u'analysis reporting',\n",
       " u'analysis skills',\n",
       " u'analysis support',\n",
       " u'analysis tools',\n",
       " u'analyst',\n",
       " u'analyst role',\n",
       " u'analysts',\n",
       " u'analytic',\n",
       " u'analytical',\n",
       " u'analytical communication',\n",
       " u'analytical field',\n",
       " u'analytical problem',\n",
       " u'analytical problem solving',\n",
       " u'analytical problem solving skills',\n",
       " u'analytical problem solving skills ability',\n",
       " u'analytical skills',\n",
       " u'analytical skills ability',\n",
       " u'analytical support',\n",
       " u'analytical tools',\n",
       " u'analytics',\n",
       " u'analytics capabilities',\n",
       " u'analytics capability',\n",
       " u'analytics data',\n",
       " u'analytics machine',\n",
       " u'analytics machine learning',\n",
       " u'analytics projects',\n",
       " u'analytics reporting',\n",
       " u'analytics solutions',\n",
       " u'analytics team',\n",
       " u'analytics tools',\n",
       " u'analyze',\n",
       " u'analyze data',\n",
       " u'analyzing',\n",
       " u'annual',\n",
       " u'anomalies',\n",
       " u'answer',\n",
       " u'anti',\n",
       " u'anticipate',\n",
       " u'anz',\n",
       " u'anz india',\n",
       " u'anz india sea',\n",
       " u'apac',\n",
       " u'apac region',\n",
       " u'apache',\n",
       " u'api',\n",
       " u'apis',\n",
       " u'app',\n",
       " u'apple',\n",
       " u'applecare',\n",
       " u'applecare certified',\n",
       " u'applecare certified macintosh',\n",
       " u'applecare certified macintosh technician',\n",
       " u'applecare engineering',\n",
       " u'applicable',\n",
       " u'applicants',\n",
       " u'applicants receive',\n",
       " u'applicants receive consideration',\n",
       " u'applicants receive consideration employment',\n",
       " u'applicants receive consideration employment regard',\n",
       " u'application',\n",
       " u'application development',\n",
       " u'application support',\n",
       " u'application teams',\n",
       " u'applications',\n",
       " u'applied',\n",
       " u'applied research',\n",
       " u'apply',\n",
       " u'apply data',\n",
       " u'apply ubs',\n",
       " u'apply ubs equal',\n",
       " u'apply ubs equal opportunity',\n",
       " u'apply ubs equal opportunity employer',\n",
       " u'applying',\n",
       " u'applying data',\n",
       " u'applying jobs',\n",
       " u'appointments',\n",
       " u'appreciation',\n",
       " u'approach',\n",
       " u'approaches',\n",
       " u'appropriate',\n",
       " u'approval',\n",
       " u'approved',\n",
       " u'apps',\n",
       " u'apps services',\n",
       " u'apps services building',\n",
       " u'apps services building different',\n",
       " u'apps services building different kind',\n",
       " u'aptitude',\n",
       " u'architect',\n",
       " u'architecting',\n",
       " u'architects',\n",
       " u'architectural',\n",
       " u'architecture',\n",
       " u'architectures',\n",
       " u'area',\n",
       " u'areas',\n",
       " u'areas data',\n",
       " u'arrange',\n",
       " u'arrangements',\n",
       " u'art',\n",
       " u'articulate',\n",
       " u'artificial',\n",
       " u'artificial intelligence',\n",
       " u'arvato',\n",
       " u'asia',\n",
       " u'asia pacific',\n",
       " u'asia pacific region',\n",
       " u'asia region',\n",
       " u'asian',\n",
       " u'aspects',\n",
       " u'assembly',\n",
       " u'assess',\n",
       " u'assessing',\n",
       " u'assessment',\n",
       " u'assessments',\n",
       " u'asset',\n",
       " u'asset management',\n",
       " u'asset management component',\n",
       " u'asset management component dow',\n",
       " u'asset management component dow jones',\n",
       " u'asset management retail',\n",
       " u'asset management retail banking',\n",
       " u'asset management retail banking switzerland',\n",
       " u'assets',\n",
       " u'assets trillion',\n",
       " u'assets trillion operations',\n",
       " u'assets trillion operations worldwide',\n",
       " u'assets trillion operations worldwide firm',\n",
       " u'assigned',\n",
       " u'assigned business',\n",
       " u'assigned business support',\n",
       " u'assigned business support units',\n",
       " u'assignment',\n",
       " u'assignments',\n",
       " u'assist',\n",
       " u'assist development',\n",
       " u'assistance',\n",
       " u'assistant',\n",
       " u'assisting',\n",
       " u'assists',\n",
       " u'associate',\n",
       " u'associated',\n",
       " u'assurance',\n",
       " u'attend',\n",
       " u'attention',\n",
       " u'attention details',\n",
       " u'attitude',\n",
       " u'attractive',\n",
       " u'audience',\n",
       " u'audiences',\n",
       " u'audit',\n",
       " u'audits',\n",
       " u'august',\n",
       " u'august 2018',\n",
       " u'australia',\n",
       " u'authorities',\n",
       " u'autocad',\n",
       " u'automate',\n",
       " u'automated',\n",
       " u'automation',\n",
       " u'autonomously',\n",
       " u'availability',\n",
       " u'available',\n",
       " u'available www',\n",
       " u'available www jpmorganchase',\n",
       " u'available www jpmorganchase com',\n",
       " u'average',\n",
       " u'average jpmorgan',\n",
       " u'average jpmorgan chase',\n",
       " u'average jpmorgan chase serves',\n",
       " u'average jpmorgan chase serves millions',\n",
       " u'award',\n",
       " u'aware',\n",
       " u'awareness',\n",
       " u'aws',\n",
       " u'ba',\n",
       " u'ba bs',\n",
       " u'ba bs degree',\n",
       " u'bachelor',\n",
       " u'bachelor degree',\n",
       " u'bachelor degree business',\n",
       " u'bachelor degree computer',\n",
       " u'bachelor degree computer science',\n",
       " u'bachelor degree equivalent',\n",
       " u'bachelor master',\n",
       " u'bachelor master degree',\n",
       " u'bachelor sjob',\n",
       " u'bachelor sjob location',\n",
       " u'bachelors',\n",
       " u'bachelors degree',\n",
       " u'background',\n",
       " u'backgrounds',\n",
       " u'backgrounds perspectives',\n",
       " u'backup',\n",
       " u'balance',\n",
       " u'bank',\n",
       " u'banking',\n",
       " u'banking asset',\n",
       " u'banking asset management',\n",
       " u'banking asset management retail',\n",
       " u'banking asset management retail banking',\n",
       " u'banking financial',\n",
       " u'banking financial services',\n",
       " u'banking financial services consumers',\n",
       " u'banking financial services consumers small',\n",
       " u'banking financial transaction',\n",
       " u'banking financial transaction processing',\n",
       " u'banking financial transaction processing asset',\n",
       " u'banking products',\n",
       " u'banking services',\n",
       " u'banking switzerland',\n",
       " u'banking switzerland support',\n",
       " u'banking switzerland support functions',\n",
       " u'banking switzerland support functions private',\n",
       " u'banks',\n",
       " u'barclays',\n",
       " u'base',\n",
       " u'based',\n",
       " u'based client',\n",
       " u'based client instructions',\n",
       " u'based singapore',\n",
       " u'based singapore office',\n",
       " u'based solutions',\n",
       " u'basic',\n",
       " u'basic knowledge',\n",
       " u'basic qualifications',\n",
       " u'basic security',\n",
       " u'basic security screening',\n",
       " u'basic understanding',\n",
       " u'basis',\n",
       " u'batch',\n",
       " u'bcbs239',\n",
       " u'beauty',\n",
       " u'behavior',\n",
       " u'behaviour',\n",
       " u'believe',\n",
       " u'belt',\n",
       " u'benchmarking',\n",
       " u'beneficial',\n",
       " u'benefit',\n",
       " u'benefits',\n",
       " u'best',\n",
       " u'best class',\n",
       " u'best practice',\n",
       " u'best practices',\n",
       " u'best work',\n",
       " u'better',\n",
       " u'bi',\n",
       " u'bi tools',\n",
       " u'big',\n",
       " u'big data',\n",
       " u'big data analytics',\n",
       " u'big data technologies',\n",
       " u'billing',\n",
       " u'billion',\n",
       " u'billion people',\n",
       " u'billions',\n",
       " u'billions people',\n",
       " u'billions people world',\n",
       " u'billions people world gives',\n",
       " u'billions people world gives ways',\n",
       " u'biomedical',\n",
       " u'black',\n",
       " u'board',\n",
       " u'boards',\n",
       " u'bonus',\n",
       " u'book',\n",
       " u'border',\n",
       " u'box',\n",
       " u'bp',\n",
       " u'brand',\n",
       " u'brand intelligence',\n",
       " u'brands',\n",
       " u'brands information',\n",
       " u'brands information jpmorgan',\n",
       " u'brands information jpmorgan chase',\n",
       " u'brands information jpmorgan chase available',\n",
       " u'brief',\n",
       " u'briefs',\n",
       " u'bring',\n",
       " u'bring people',\n",
       " u'bring people closer',\n",
       " u'bring people closer creating',\n",
       " u'bring people closer creating new',\n",
       " u'bring world',\n",
       " u'bring world closer',\n",
       " u'bring world closer family',\n",
       " u'bring world closer family apps',\n",
       " u'bringing',\n",
       " u'broad',\n",
       " u'broad range',\n",
       " u'broader',\n",
       " u'brown',\n",
       " u'bs',\n",
       " u'bs degree',\n",
       " u'bsc',\n",
       " u'budget',\n",
       " u'budgeting',\n",
       " u'build',\n",
       " u'build community',\n",
       " u'build community bring',\n",
       " u'build community bring world',\n",
       " u'build community bring world closer',\n",
       " u'build community connect',\n",
       " u'build community connect meaningful',\n",
       " u'build community connect meaningful ways',\n",
       " u'build effective',\n",
       " u'build strong',\n",
       " u'build stronger',\n",
       " u'build stronger communities',\n",
       " u'build stronger communities just',\n",
       " u'build stronger communities just getting',\n",
       " u'builders',\n",
       " u'builders heart',\n",
       " u'builders heart global',\n",
       " u'builders heart global teams',\n",
       " u'builders heart global teams constantly',\n",
       " u'building',\n",
       " u'building different',\n",
       " u'building different kind',\n",
       " u'building different kind company',\n",
       " u'building different kind company connects',\n",
       " u'builds',\n",
       " u'built',\n",
       " u'bus',\n",
       " u'bus sus',\n",
       " u'business',\n",
       " u'business activities',\n",
       " u'business acumen',\n",
       " u'business administration',\n",
       " u'business analysis',\n",
       " u'business analyst',\n",
       " u'business analysts',\n",
       " u'business analytics',\n",
       " u'business applications',\n",
       " u'business business',\n",
       " u'business case',\n",
       " u'business commercial',\n",
       " u'business commercial banking',\n",
       " u'business commercial banking financial',\n",
       " u'business commercial banking financial transaction',\n",
       " u'business data',\n",
       " u'business decisions',\n",
       " u'business development',\n",
       " u'business economics',\n",
       " u'business expand',\n",
       " u'business expand reach',\n",
       " u'business expand reach people',\n",
       " u'business expand reach people facebook',\n",
       " u'business functions',\n",
       " u'business goals',\n",
       " u'business growth',\n",
       " u'business impact',\n",
       " u'business information',\n",
       " u'business insights',\n",
       " u'business intelligence',\n",
       " u'business intelligence data',\n",
       " u'business intelligence tools',\n",
       " u'business leaders',\n",
       " u'business management',\n",
       " u'business needs',\n",
       " u'business objectives',\n",
       " u'business objects',\n",
       " u'business operations',\n",
       " u'business partner',\n",
       " u'business partners',\n",
       " u'business performance',\n",
       " u'business problems',\n",
       " u'business process',\n",
       " u'business processes',\n",
       " u'business requirements',\n",
       " u'business results',\n",
       " u'business solutions',\n",
       " u'business stakeholders',\n",
       " u'business support',\n",
       " u'business support units',\n",
       " u'business technical',\n",
       " u'business technology',\n",
       " u'business unit',\n",
       " u'business units',\n",
       " u'business users',\n",
       " u'business usual',\n",
       " u'business value',\n",
       " u'businesses',\n",
       " u'buy',\n",
       " u'cabling',\n",
       " u'calls',\n",
       " u'campaign',\n",
       " u'campaigns',\n",
       " u'candidate',\n",
       " u'candidate able',\n",
       " u'candidate expected',\n",
       " u'candidate possess',\n",
       " u'candidates',\n",
       " u'candidates notified',\n",
       " u'capabilities',\n",
       " u'capability',\n",
       " u'capable',\n",
       " u'capacity',\n",
       " u'capital',\n",
       " u'capture',\n",
       " u'card',\n",
       " u'cards',\n",
       " u'care',\n",
       " u'career',\n",
       " u'career path',\n",
       " u'careers',\n",
       " u'carry',\n",
       " u'case',\n",
       " u'case development',\n",
       " u'cases',\n",
       " u'cash',\n",
       " u'cassandra',\n",
       " u'cause',\n",
       " u'cause analysis',\n",
       " u'causes',\n",
       " u'center',\n",
       " u'center operations',\n",
       " u'centers',\n",
       " u'centers 50',\n",
       " u'centers 50 countries',\n",
       " u'centers 50 countries want',\n",
       " u'centers 50 countries want things',\n",
       " u'central',\n",
       " u'centre',\n",
       " u'centric',\n",
       " u'certificate',\n",
       " u'certification',\n",
       " u'certification requirements',\n",
       " u'certification specific',\n",
       " u'certifications',\n",
       " u'certified',\n",
       " u'certified macintosh',\n",
       " u'certified macintosh technician',\n",
       " u'chain',\n",
       " u'challenge',\n",
       " u'challenged',\n",
       " u'challenged return',\n",
       " u'challenged return passionate',\n",
       " u'challenged return passionate driving',\n",
       " u'challenged return passionate driving forward',\n",
       " u'challenges',\n",
       " u'challenging',\n",
       " u'challenging challenged',\n",
       " u'challenging challenged return',\n",
       " u'challenging challenged return passionate',\n",
       " u'challenging challenged return passionate driving',\n",
       " u'challenging diverse',\n",
       " u'challenging diverse working',\n",
       " u'challenging diverse working environment',\n",
       " u'challenging diverse working environment value',\n",
       " u'chance',\n",
       " u'change',\n",
       " u'change management',\n",
       " u'change requests',\n",
       " u'changes',\n",
       " u'changing',\n",
       " u'changing environment',\n",
       " u'channel',\n",
       " u'channels',\n",
       " u'characteristics',\n",
       " u'charge',\n",
       " u'charts',\n",
       " u'chase',\n",
       " u'chase available',\n",
       " u'chase available www',\n",
       " u'chase available www jpmorganchase',\n",
       " u'chase available www jpmorganchase com',\n",
       " u'chase brands',\n",
       " u'chase brands information',\n",
       " u'chase brands information jpmorgan',\n",
       " u'chase brands information jpmorgan chase',\n",
       " u'chase nyse',\n",
       " u'chase nyse jpm',\n",
       " u'chase nyse jpm leading',\n",
       " u'chase nyse jpm leading global',\n",
       " u'chase serves',\n",
       " u'chase serves millions',\n",
       " u'chase serves millions consumers',\n",
       " u'chase serves millions consumers united',\n",
       " u'chat',\n",
       " u'check',\n",
       " u'checking',\n",
       " u'checks',\n",
       " u'china',\n",
       " u'chinese',\n",
       " u'circles',\n",
       " u'circles life',\n",
       " u'circumstances',\n",
       " u'cisco',\n",
       " u'citi',\n",
       " u'cities',\n",
       " u'citizenship',\n",
       " u'city',\n",
       " u'claims',\n",
       " u'clarify',\n",
       " u'class',\n",
       " u'classes',\n",
       " u'classification',\n",
       " u'classified',\n",
       " u'clean',\n",
       " u'cleanliness',\n",
       " u'cleansing',\n",
       " u'clear',\n",
       " u'clear concise',\n",
       " u'clearance',\n",
       " u'clearly',\n",
       " u'clerical',\n",
       " u'client',\n",
       " u'client business',\n",
       " u'client facing',\n",
       " u'client groups',\n",
       " u'client instructions',\n",
       " u'client meetings',\n",
       " u'client onboarding',\n",
       " u'client service',\n",
       " u'client services',\n",
       " u'clients',\n",
       " u'clients challenging',\n",
       " u'clients challenging challenged',\n",
       " u'clients challenging challenged return',\n",
       " u'clients challenging challenged return passionate',\n",
       " u'clients corporations',\n",
       " u'clients corporations world',\n",
       " u'clients corporations world 60',\n",
       " u'clients corporations world 60 000',\n",
       " u'clients morgan',\n",
       " u'clients morgan chase',\n",
       " u'clients morgan chase brands',\n",
       " u'clients morgan chase brands information',\n",
       " u'clinical',\n",
       " u'clinical data',\n",
       " u'clinical data management',\n",
       " u'clinical sciences',\n",
       " u'clinical sciences sics',\n",
       " u'close',\n",
       " u'closely',\n",
       " u'closely business',\n",
       " u'closer',\n",
       " u'closer creating',\n",
       " u'closer creating new',\n",
       " u'closer creating new products',\n",
       " u'closer creating new products helping',\n",
       " u'closer family',\n",
       " u'closer family apps',\n",
       " u'closer family apps services',\n",
       " u'closer family apps services building',\n",
       " u'closing',\n",
       " u'closure',\n",
       " u'cloud',\n",
       " u'cloud based',\n",
       " u'cloud computing',\n",
       " u'cloudera',\n",
       " u'cluster',\n",
       " u'clustering',\n",
       " u'coaching',\n",
       " u'code',\n",
       " u'codes',\n",
       " u'coding',\n",
       " u'cognos',\n",
       " u'collaborate',\n",
       " u'collaborates',\n",
       " u'collaborating',\n",
       " u'collaboration',\n",
       " u'collaborative',\n",
       " u'collaborative succeeding',\n",
       " u'collaborative succeeding ubs',\n",
       " u'collaborative succeeding ubs means',\n",
       " u'collaborative succeeding ubs means respecting',\n",
       " u'collaboratively',\n",
       " u'colleagues',\n",
       " u'colleagues clients',\n",
       " u'colleagues clients challenging',\n",
       " u'colleagues clients challenging challenged',\n",
       " u'colleagues clients challenging challenged return',\n",
       " u'collect',\n",
       " u'collected',\n",
       " u'collecting',\n",
       " u'collection',\n",
       " u'college',\n",
       " u'colo',\n",
       " u'color',\n",
       " u'color religion',\n",
       " u'com',\n",
       " u'com sg',\n",
       " u'combination',\n",
       " u'combine',\n",
       " u'combined',\n",
       " u'come',\n",
       " u'comes',\n",
       " u'comfortable',\n",
       " u'comfortable working',\n",
       " u'coming',\n",
       " u'command',\n",
       " u'commerce',\n",
       " u'commercial',\n",
       " u'commercial banking',\n",
       " u'commercial banking financial',\n",
       " u'commercial banking financial transaction',\n",
       " u'commercial banking financial transaction processing',\n",
       " u'commissioning',\n",
       " u'commitment',\n",
       " u'commitment reward',\n",
       " u'commitment reward performance',\n",
       " u'commitment reward performance keen',\n",
       " u'commitment reward performance keen achieve',\n",
       " u'committed',\n",
       " u'common',\n",
       " u'communicate',\n",
       " u'communicate effectively',\n",
       " u'communicates',\n",
       " u'communicating',\n",
       " u'communication',\n",
       " u'communication interpersonal',\n",
       " u'communication interpersonal skills',\n",
       " u'communication presentation',\n",
       " u'communication presentation skills',\n",
       " u'communication skills',\n",
       " u'communication skills ability',\n",
       " u'communication skills ability work',\n",
       " u'communication skills english',\n",
       " u'communication skills strong',\n",
       " u'communications',\n",
       " u'communications skills',\n",
       " u'communicator',\n",
       " u'communities',\n",
       " u'communities just',\n",
       " u'communities just getting',\n",
       " u'communities just getting started',\n",
       " u'communities just getting started facebook',\n",
       " u'community',\n",
       " u'community bring',\n",
       " u'community bring world',\n",
       " u'community bring world closer',\n",
       " u'community bring world closer family',\n",
       " u'community connect',\n",
       " u'community connect meaningful',\n",
       " u'community connect meaningful ways',\n",
       " u'community connect meaningful ways help',\n",
       " u'companies',\n",
       " u'company',\n",
       " u'company connects',\n",
       " u'company connects billions',\n",
       " u'company connects billions people',\n",
       " u'company connects billions people world',\n",
       " u'compelling',\n",
       " u'compensation',\n",
       " u'compensation benefits',\n",
       " u'competencies',\n",
       " u'competency',\n",
       " u'competent',\n",
       " u'competing',\n",
       " u'competitions',\n",
       " u'competitive',\n",
       " u'competitive salary',\n",
       " u'compile',\n",
       " u'complaints',\n",
       " u'complete',\n",
       " u'completed',\n",
       " u'completeness',\n",
       " u'completing',\n",
       " u'completion',\n",
       " u'complex',\n",
       " u'complex business',\n",
       " u'complex data',\n",
       " u'complex problems',\n",
       " u'complexity',\n",
       " u'compliance',\n",
       " u'compliance legal',\n",
       " u'compliance monitoring',\n",
       " u'compliance regulatory',\n",
       " u'comply',\n",
       " u'component',\n",
       " u'component dow',\n",
       " u'component dow jones',\n",
       " u'component dow jones industrial',\n",
       " u'component dow jones industrial average',\n",
       " u'components',\n",
       " u'comprehensive',\n",
       " u'compute',\n",
       " u'computer',\n",
       " u'computer engineering',\n",
       " u'computer engineering information',\n",
       " u'computer science',\n",
       " u'computer science computer',\n",
       " u'computer science computer engineering',\n",
       " u'computer science engineering',\n",
       " u'computer science information',\n",
       " u'computer science information systems',\n",
       " u'computer science information technology',\n",
       " u'computer science mathematics',\n",
       " u'computer science related',\n",
       " u'computer science statistics',\n",
       " u'computing',\n",
       " u'concept',\n",
       " u'concepts',\n",
       " u'conceptual',\n",
       " u'conceptualize',\n",
       " u'concerns',\n",
       " u'concise',\n",
       " u'condition',\n",
       " u'conditions',\n",
       " u'conduct',\n",
       " u'conduct data',\n",
       " u'conducting',\n",
       " u'conferences',\n",
       " u'confidence',\n",
       " u'confident',\n",
       " u'confidential',\n",
       " u'confidentiality',\n",
       " u'configuration',\n",
       " u'confirm',\n",
       " u'conflicting',\n",
       " u'connect',\n",
       " u'connect meaningful',\n",
       " u'connect meaningful ways',\n",
       " u'connect meaningful ways help',\n",
       " u'connect meaningful ways help people',\n",
       " u'connected',\n",
       " u'connections',\n",
       " u'connectivity',\n",
       " u'connects',\n",
       " u'connects billions',\n",
       " u'connects billions people',\n",
       " u'connects billions people world',\n",
       " u'connects billions people world gives',\n",
       " u'consideration',\n",
       " u'consideration employment',\n",
       " u'consideration employment regard',\n",
       " u'consideration employment regard race',\n",
       " u'consideration employment regard race color',\n",
       " u'considered',\n",
       " u'consistency',\n",
       " u'consistently',\n",
       " u'constant',\n",
       " u'constantly',\n",
       " u'constantly iterating',\n",
       " u'constantly iterating solving',\n",
       " u'constantly iterating solving problems',\n",
       " u'constantly iterating solving problems working',\n",
       " ...]"
      ]
     },
     "execution_count": 49,
     "metadata": {},
     "output_type": "execute_result"
    }
   ],
   "source": [
    "tvect.get_feature_names()"
   ]
  },
  {
   "cell_type": "code",
   "execution_count": null,
   "metadata": {
    "collapsed": true
   },
   "outputs": [],
   "source": []
  }
 ],
 "metadata": {
  "kernelspec": {
   "display_name": "Python 2",
   "language": "python",
   "name": "python2"
  },
  "language_info": {
   "codemirror_mode": {
    "name": "ipython",
    "version": 2
   },
   "file_extension": ".py",
   "mimetype": "text/x-python",
   "name": "python",
   "nbconvert_exporter": "python",
   "pygments_lexer": "ipython2",
   "version": "2.7.14"
  }
 },
 "nbformat": 4,
 "nbformat_minor": 2
}
