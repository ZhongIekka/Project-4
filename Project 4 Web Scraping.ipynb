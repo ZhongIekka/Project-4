{
 "cells": [
  {
   "cell_type": "markdown",
   "metadata": {
    "collapsed": true
   },
   "source": [
    "<img src=\"https://ga-dash.s3.amazonaws.com/production/assets/logo-9f88ae6c9c3871690e33280fcf557f33.png\" style=\"float: left; margin: 20px; height: 55px\">\n",
    "\n",
    "# Project 4: Web Scraping Job Postings\n",
    "\n",
    "## Business Case Overview\n",
    "\n",
    "You're working as a data scientist for a contracting firm that's rapidly expanding. Now that they have their most valuable employee (you!), they need to leverage data to win more contracts. Your firm offers technology and scientific solutions and wants to be competitive in the hiring market. Your principal has two main objectives:\n",
    "\n",
    "   1. Determine the industry factors that are most important in predicting the salary amounts for these data.\n",
    "   2. Determine the factors that distinguish job categories and titles from each other. For example, can required skills accurately predict job title?\n",
    "\n",
    "To limit the scope, your principal has suggested that you *focus on data-related job postings*, e.g. data scientist, data analyst, research scientist, business intelligence, and any others you might think of. You may also want to decrease the scope by *limiting your search to a single region.*\n",
    "\n",
    "Hint: Aggregators like [Indeed.com](https://www.indeed.com) regularly pool job postings from a variety of markets and industries. \n",
    "\n",
    "**Goal:** Scrape your own data from a job aggregation tool like Indeed.com in order to collect the data to best answer these two questions.\n",
    "\n",
    "---\n",
    "\n",
    "## Directions\n",
    "\n",
    "In this project you will be leveraging a variety of skills. The first will be to use the web-scraping and/or API techniques you've learned to collect data on data jobs from Indeed.com or another aggregator. Once you have collected and cleaned the data, you will use it to answer the two questions described above.\n",
    "\n",
    "### QUESTION 1: Factors that impact salary\n",
    "\n",
    "To predict salary you will be building either a classification or regression model, using features like the location, title, and summary of the job. If framing this as a regression problem, you will be estimating the listed salary amounts. You may instead choose to frame this as a classification problem, in which case you will create labels from these salaries (high vs. low salary, for example) according to thresholds (such as median salary).\n",
    "\n",
    "You have learned a variety of new skills and models that may be useful for this problem:\n",
    "- NLP\n",
    "- Unsupervised learning and dimensionality reduction techniques (PCA, clustering)\n",
    "- Ensemble methods and decision tree models\n",
    "- SVM models\n",
    "\n",
    "Whatever you decide to use, the most important thing is to justify your choices and interpret your results. *Communication of your process is key.* Note that most listings **DO NOT** come with salary information. You'll need to able to extrapolate or predict the expected salaries for these listings.\n",
    "\n",
    "### QUESTION 2: Factors that distinguish job category\n",
    "\n",
    "Using the job postings you scraped for part 1 (or potentially new job postings from a second round of scraping), identify features in the data related to job postings that can distinguish job titles from each other. There are a variety of interesting ways you can frame the target variable, for example:\n",
    "- What components of a job posting distinguish data scientists from other data jobs?\n",
    "- What features are important for distinguishing junior vs. senior positions?\n",
    "- Do the requirements for titles vary significantly with industry (e.g. healthcare vs. government)?\n",
    "\n",
    "You may end up making multiple classification models to tackle different questions. Be sure to clearly explain your hypotheses and framing, any feature engineering, and what your target variables are. The type of classification model you choose is up to you. Be sure to interpret your results and evaluate your models' performance.\n",
    "\n",
    "\n",
    "### BONUS PROBLEM\n",
    "\n",
    "Your boss would rather tell a client incorrectly that they would get a lower salary job than tell a client incorrectly that they would get a high salary job. Adjust one of your models to ease his mind, and explain what it is doing and any tradeoffs. Plot the ROC curve.\n",
    "\n",
    "---\n",
    "\n",
    "## Requirements\n",
    "\n",
    "1. Scrape and prepare your own data.\n",
    "\n",
    "2. **Create and compare at least two models for each section**. One of the two models should be a decision tree or ensemble model. The other can be a classifier or regression of your choosing (e.g. Ridge, logistic regression, KNN, SVM, etc).\n",
    "   - Section 1: Job Salary Trends\n",
    "   - Section 2: Job Category Factors\n",
    "\n",
    "3. Prepare a polished Jupyter Notebook with your analysis for a peer audience of data scientists. \n",
    "   - Make sure to clearly describe and label each section.\n",
    "   - Comment on your code so that others could, in theory, replicate your work.\n",
    "\n",
    "4. A brief writeup in an executive summary, written for a non-technical audience.\n",
    "   - Writeups should be at least 500-1000 words, defining any technical terms, explaining your approach, as well as any risks and limitations.\n",
    "\n",
    "#### BONUS\n",
    "\n",
    "5. Answer the salary discussion by using your model to explain the tradeoffs between detecting high vs low salary positions.\n",
    "\n",
    "6. Convert your executive summary into a public blog post of at least 500 words, in which you document your approach in a tutorial for other aspiring data scientists. Link to this in your notebook.\n",
    "\n",
    "---\n",
    "\n",
    "## Suggestions for Getting Started\n",
    "\n",
    "1. Collect data from [Indeed.com](www.indeed.com) (or another aggregator) on data-related jobs to use in predicting salary trends for your analysis.\n",
    "  - Select and parse data from *at least 1000 postings* for jobs, potentially from multiple location searches.\n",
    "2. Find out what factors most directly impact salaries (e.g. title, location, department, etc).\n",
    "  - Test, validate, and describe your models. What factors predict salary category? How do your models perform?\n",
    "3. Discover which features have the greatest importance when determining a low vs. high paying job.\n",
    "  - Your Boss is interested in what overall features hold the greatest significance.\n",
    "  - HR is interested in which SKILLS and KEY WORDS hold the greatest significance.   \n",
    "4. Author an executive summary that details the highlights of your analysis for a non-technical audience.\n",
    "5. If tackling the bonus question, try framing the salary problem as a classification problem detecting low vs. high salary positions.\n",
    "\n",
    "---\n",
    "\n",
    "## Useful Resources\n",
    "\n",
    "- Scraping is one of the most fun, useful and interesting skills out there. Donâ€™t lose out by copying someone else's code!\n",
    "- [Here is some advice on how to write for a non-technical audience](http://programmers.stackexchange.com/questions/11523/explaining-technical-things-to-non-technical-people)\n",
    "- [Documentation for BeautifulSoup can be found here](http://www.crummy.com/software/BeautifulSoup/).\n",
    "\n",
    "---\n",
    "\n",
    "### Project Feedback + Evaluation\n",
    "\n",
    "For all projects, students will be evaluated on a simple 3 point scale (0, 1, or 2). Instructors will use this rubric when scoring student performance on each of the core project **requirements:** \n",
    "\n",
    "Score | Expectations\n",
    "----- | ------------\n",
    "**0** | _Does not meet expectations. Try again._\n",
    "**1** | _Meets expectations. Good job._\n",
    "**2** | _Surpasses expectations. Brilliant!_\n",
    "\n",
    "[For more information on how we grade our DSI projects, see our project grading walkthrough.](https://git.generalassemb.ly/dsi-projects/readme/blob/master/README.md)"
   ]
  },
  {
   "cell_type": "code",
   "execution_count": 1,
   "metadata": {
    "collapsed": true
   },
   "outputs": [],
   "source": [
    "from bs4 import BeautifulSoup\n",
    "import urllib2\n",
    "import pickle\n",
    "from time import sleep\n",
    "import requests\n",
    "import re\n",
    "import pandas as pd"
   ]
  },
  {
   "cell_type": "code",
   "execution_count": 3,
   "metadata": {
    "collapsed": true
   },
   "outputs": [],
   "source": [
    "url = \"https://www.indeed.com.sg/m/jobs?q=Data&l=Singapore&start=0\"\n",
    "response = urllib2.urlopen(url)\n",
    "html = response.read()\n",
    "soup = BeautifulSoup(html, 'html.parser')"
   ]
  },
  {
   "cell_type": "code",
   "execution_count": 4,
   "metadata": {},
   "outputs": [
    {
     "data": {
      "text/plain": [
       "[u'https://www.indeed.com.sg/viewjob?jk=c25e0b0398772de7',\n",
       " u'https://www.indeed.com.sg/viewjob?jk=824ec4a978ab8642',\n",
       " u'https://www.indeed.com.sg/viewjob?jk=1f1e8dd98e118f2c',\n",
       " u'https://www.indeed.com.sg/viewjob?jk=8272d375c05e9707',\n",
       " u'https://www.indeed.com.sg/viewjob?jk=16d91aa9466a97e8',\n",
       " u'https://www.indeed.com.sg/viewjob?jk=24b018ac410e0732',\n",
       " u'https://www.indeed.com.sg/viewjob?jk=d4cbc5dfd918d49d',\n",
       " u'https://www.indeed.com.sg/viewjob?jk=0ee8287e82a8e6bc',\n",
       " u'https://www.indeed.com.sg/viewjob?jk=5295c09e61003f46',\n",
       " u'https://www.indeed.com.sg/viewjob?jk=21641976eda2f1a1']"
      ]
     },
     "execution_count": 4,
     "metadata": {},
     "output_type": "execute_result"
    }
   ],
   "source": [
    "page_links = []\n",
    "weblink = 'https://www.indeed.com.sg/'\n",
    "\n",
    "for link in soup.findAll('a', attrs={'href': re.compile(\"^viewjob?\")}):\n",
    "    page_link = weblink+link.get('href')\n",
    "    page_links.append(page_link)\n",
    "\n",
    "page_links"
   ]
  },
  {
   "cell_type": "markdown",
   "metadata": {},
   "source": [
    "### Scraping\n",
    "\n",
    "The functions below are functions that scrape job titles, job links, salaries, employers and job descriptions from the Indeed website.\n",
    "\n",
    "They are helper functions that will be used in a master function."
   ]
  },
  {
   "cell_type": "code",
   "execution_count": 5,
   "metadata": {
    "collapsed": true
   },
   "outputs": [],
   "source": [
    "def extract_job_title(soup): \n",
    "    \n",
    "    job_list = []\n",
    "        \n",
    "    for item in soup.find_all(name='h2', attrs={'class':'jobTitle'}):\n",
    "        \n",
    "        try:\n",
    "            job_list.append(item.text.strip(':'))\n",
    "        \n",
    "        except:\n",
    "        \n",
    "            job_list.append('Scraping unsuccessful')\n",
    "            continue\n",
    "        \n",
    "    return job_list\n",
    "\n",
    "def extract_job_link(soup):\n",
    "    \n",
    "    page_links = []\n",
    "    \n",
    "    weblink = 'https://www.indeed.com.sg/'\n",
    "            \n",
    "    for link in soup.findAll('a', attrs={'href': re.compile(\"^viewjob?\")}):\n",
    "        try:\n",
    "            page_link = weblink+link.get('href')\n",
    "            page_links.append(page_link)\n",
    "            \n",
    "        except:\n",
    "            page_links.append('Scraping unsuccessful')\n",
    "            continue\n",
    "        \n",
    "    return page_links\n",
    "\n",
    "def extract_salary(soup):\n",
    "    \n",
    "    mobile_page_links = []\n",
    "    salary_list = []\n",
    "    \n",
    "    weblink = 'https://www.indeed.com.sg/m/'\n",
    "\n",
    "    for link in soup.findAll('a', attrs={'href': re.compile(\"^viewjob?\")}):\n",
    "        mobile_page_link = weblink+link.get('href')\n",
    "        mobile_page_links.append(mobile_page_link)\n",
    "\n",
    "    for mobile_link in mobile_page_links:\n",
    "        \n",
    "        try:\n",
    "            response_mobile = urllib2.urlopen(mobile_link)\n",
    "            html_mobile = response_mobile.read()\n",
    "            soup_mobile = BeautifulSoup(html_mobile, 'html.parser')\n",
    "            salary_mobile = soup_mobile.find('span',{'class':'salary'})\n",
    "\n",
    "            if salary_mobile > 0:\n",
    "                salary_list.append(salary_mobile.text)\n",
    "            else:\n",
    "                salary_list.append('Salary not stated')\n",
    "                \n",
    "        except:\n",
    "            salary_list.append('Scraping Unsuccessful')\n",
    "            continue\n",
    "        \n",
    "    return salary_list\n",
    "    \n",
    "def extract_employer(links):\n",
    "    \n",
    "    employers = []\n",
    "    \n",
    "    for link in links:\n",
    "        try:\n",
    "            response = urllib2.urlopen(link)\n",
    "            html = response.read()\n",
    "            soup = BeautifulSoup(html, 'html.parser')\n",
    "            employer = soup.find('span',{'class':'company'})\n",
    "\n",
    "            if employer > 0:\n",
    "                employers.append(employer.text)   \n",
    "            else:\n",
    "                employers.append('Employer not stated')\n",
    "        except:\n",
    "            employers.append('Scraping Unsuccessful')\n",
    "            continue\n",
    "            \n",
    "    return employers\n",
    "\n",
    "def extract_job_description(links):\n",
    "    \n",
    "    job_description = []\n",
    "    \n",
    "    for link in links:\n",
    "        try:\n",
    "            response = urllib2.urlopen(link)\n",
    "            html = response.read()\n",
    "            soup = BeautifulSoup(html, 'html.parser')\n",
    "            job_summary = soup.find('span',{'id':'job_summary'})\n",
    "\n",
    "            if len(job_summary) > 0:\n",
    "                job_description.append(job_summary.text)   \n",
    "            else:\n",
    "                job_description.append('Job description not stated')\n",
    "                \n",
    "        except:\n",
    "            job_description.append('Scraping Unsuccessful')\n",
    "            continue\n",
    "            \n",
    "    return job_description"
   ]
  },
  {
   "cell_type": "code",
   "execution_count": 9,
   "metadata": {
    "collapsed": true
   },
   "outputs": [],
   "source": [
    "# Master Function 1. The result is a dataframe.\n",
    "\n",
    "def indeed_info_scraper(base_url):\n",
    "    \n",
    "    cap=1000\n",
    "        \n",
    "    pages_to_scrape = range(0,cap,10)\n",
    "    indeed_pages = []\n",
    "    indeed_url = []\n",
    "    \n",
    "    job_titles = []\n",
    "    job_links = []\n",
    "    employers = []\n",
    "    salaries = []\n",
    "        \n",
    "    for x in pages_to_scrape:\n",
    "        indeed_pages.append(str(x))\n",
    "\n",
    "    for page in indeed_pages:\n",
    "        indeed_url.append(base_url+page)\n",
    "    \n",
    "    for url in indeed_url:\n",
    "        \n",
    "        response = urllib2.urlopen(url)\n",
    "        html = response.read()\n",
    "        soup = BeautifulSoup(html, 'html.parser')\n",
    "        \n",
    "        job_titles.extend(extract_job_title(soup))\n",
    "        job_links.extend(extract_job_link(soup))\n",
    "        salaries.extend(extract_salary(soup))\n",
    "    \n",
    "    employers.extend(extract_employer(job_links))\n",
    "\n",
    "    job_titles_df = pd.DataFrame(job_titles,columns=['Job Title'])\n",
    "    job_links_df = pd.DataFrame(job_links,columns=['Job Link'])\n",
    "    \n",
    "    employers_df = pd.DataFrame(employers,columns=['Employer'])\n",
    "        \n",
    "    salaries_df = pd.DataFrame(salaries,columns=['Salary'])\n",
    "    \n",
    "    indeed_scraped_df = pd.concat([job_titles_df,job_links_df,employers_df,\n",
    "                                   salaries_df],axis=1)\n",
    "    \n",
    "    return indeed_scraped_df\n"
   ]
  },
  {
   "cell_type": "code",
   "execution_count": 10,
   "metadata": {
    "collapsed": true
   },
   "outputs": [],
   "source": [
    "# Master Function 2. A different function is used for scraping job descriptions\n",
    "# because of errors that could not be easily resolved.\n",
    "\n",
    "def indeed_job_description_scraper(base_url):\n",
    "    \n",
    "    cap=1000\n",
    "        \n",
    "    pages_to_scrape = range(0,cap,10)\n",
    "    indeed_pages = []\n",
    "    indeed_url = []\n",
    "    \n",
    "    job_links = []\n",
    "    job_summaries = []\n",
    "        \n",
    "    for x in pages_to_scrape:\n",
    "        indeed_pages.append(str(x))\n",
    "\n",
    "    for page in indeed_pages:\n",
    "        indeed_url.append(base_url+page)\n",
    "    \n",
    "    for url in indeed_url:\n",
    "        \n",
    "        response = urllib2.urlopen(url)\n",
    "        html = response.read()\n",
    "        soup = BeautifulSoup(html, 'html.parser')\n",
    "        \n",
    "        job_links.extend(extract_job_link(soup))\n",
    "        \n",
    "    job_summaries.extend(extract_job_description(job_links))\n",
    "        \n",
    "    job_summaries_df = pd.DataFrame(job_summaries,columns=['Job Description'])\n",
    "    \n",
    "    return job_summaries_df"
   ]
  },
  {
   "cell_type": "code",
   "execution_count": 11,
   "metadata": {
    "collapsed": true
   },
   "outputs": [],
   "source": [
    "base_url = 'https://www.indeed.com.sg/m/jobs?q=Data&l=Singapore&start='"
   ]
  },
  {
   "cell_type": "code",
   "execution_count": 12,
   "metadata": {
    "collapsed": true
   },
   "outputs": [],
   "source": [
    "# Scraping for information\n",
    "\n",
    "indeed_scraped_df = indeed_info_scraper(base_url)"
   ]
  },
  {
   "cell_type": "code",
   "execution_count": 13,
   "metadata": {
    "collapsed": true
   },
   "outputs": [],
   "source": [
    "# Scraping for job descriptions\n",
    "\n",
    "job_descriptions_df = indeed_job_description_scraper(base_url)"
   ]
  },
  {
   "cell_type": "code",
   "execution_count": 14,
   "metadata": {
    "collapsed": true
   },
   "outputs": [],
   "source": [
    "indeed_data_df = pd.concat([indeed_scraped_df,job_descriptions_df],axis=1)"
   ]
  },
  {
   "cell_type": "code",
   "execution_count": 15,
   "metadata": {},
   "outputs": [
    {
     "data": {
      "text/plain": [
       "(1000, 5)"
      ]
     },
     "execution_count": 15,
     "metadata": {},
     "output_type": "execute_result"
    }
   ],
   "source": [
    "# Scraped dataframe with 1000 values as required by question.\n",
    "\n",
    "indeed_data_df.shape"
   ]
  },
  {
   "cell_type": "code",
   "execution_count": 16,
   "metadata": {
    "collapsed": true
   },
   "outputs": [],
   "source": [
    "pickle_out = open(\"indeed_data_df.pickle\",\"wb\")\n",
    "pickle.dump(indeed_data_df, pickle_out)\n",
    "pickle_out.close()"
   ]
  },
  {
   "cell_type": "code",
   "execution_count": null,
   "metadata": {
    "collapsed": true
   },
   "outputs": [],
   "source": [
    "pickle_in = open(\"indeed_data_df.pickle\",\"rb\")\n",
    "indeed_data_df = pickle.load(pickle_in)"
   ]
  },
  {
   "cell_type": "code",
   "execution_count": null,
   "metadata": {
    "collapsed": true
   },
   "outputs": [],
   "source": []
  }
 ],
 "metadata": {
  "kernelspec": {
   "display_name": "Python 2",
   "language": "python",
   "name": "python2"
  },
  "language_info": {
   "codemirror_mode": {
    "name": "ipython",
    "version": 2
   },
   "file_extension": ".py",
   "mimetype": "text/x-python",
   "name": "python",
   "nbconvert_exporter": "python",
   "pygments_lexer": "ipython2",
   "version": "2.7.14"
  }
 },
 "nbformat": 4,
 "nbformat_minor": 2
}
